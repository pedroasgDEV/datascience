{
 "cells": [
  {
   "cell_type": "code",
   "execution_count": 2,
   "source": [
    "print('hello world')"
   ],
   "outputs": [],
   "metadata": {}
  }
 ],
 "metadata": {
  "orig_nbformat": 4,
  "language_info": {
   "name": "python",
   "version": "3.8.8",
   "mimetype": "text/x-python",
   "codemirror_mode": {
    "name": "ipython",
    "version": 3
   },
   "pygments_lexer": "ipython3",
   "nbconvert_exporter": "python",
   "file_extension": ".py"
  },
  "kernelspec": {
   "name": "python3",
   "display_name": "Python 3.8.8 64-bit ('base': conda)"
  },
  "interpreter": {
   "hash": "504e3333aff45603f9189f1e2b6e8bc2eb3eb6a6db666c74f6b4c21851eaed4e"
  }
 },
 "nbformat": 4,
 "nbformat_minor": 2
}